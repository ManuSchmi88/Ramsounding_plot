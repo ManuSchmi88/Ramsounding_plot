{
 "cells": [
  {
   "cell_type": "code",
   "execution_count": 1,
   "metadata": {},
   "outputs": [],
   "source": [
    "import numpy as np\n",
    "import pandas as pd\n",
    "import matplotlib.pyplot as plt\n",
    "%matplotlib inline"
   ]
  },
  {
   "cell_type": "code",
   "execution_count": 15,
   "metadata": {},
   "outputs": [],
   "source": [
    "class test_data(object):\n",
    "    def __init__(self):\n",
    "        self.data = 0\n",
    "    \n",
    "    def func_inc(self):\n",
    "        self.data += 1\n",
    "    \n",
    "class test_access(object):\n",
    "    def __init__(self):\n",
    "        t = test_data()\n",
    "        print(t.data)\n",
    "        \n",
    "    def show_data(self):\n",
    "        print(t.data)"
   ]
  },
  {
   "cell_type": "code",
   "execution_count": 2,
   "metadata": {},
   "outputs": [],
   "source": [
    "file = open('rs1.dat', 'r')\n",
    "data = file.readlines()\n",
    "file.close()\n",
    "data_int = [int(i) for i in data]\n",
    "data_int = np.array(data_int)"
   ]
  },
  {
   "cell_type": "code",
   "execution_count": 3,
   "metadata": {},
   "outputs": [],
   "source": [
    "#create basic info about dpm\n",
    "info = {\n",
    "    'zero_elevation' : 0., #describes the depth where we started counting\n",
    "    'interval' : 0.1,    #interval of values read\n",
    "    'type': ['DPL', 'DPM', 'DPH'], #type of ramsounding\n",
    "    'dpm_limits' : {\n",
    "        'weich' : 4,\n",
    "        'breeig' : 8,\n",
    "        'steif' : 14,\n",
    "        'halbfest' : 28,\n",
    "        'fest' : 100,\n",
    "    }\n",
    "}\n"
   ]
  },
  {
   "cell_type": "code",
   "execution_count": 4,
   "metadata": {},
   "outputs": [],
   "source": [
    "#do some necessary calculations\n",
    "total_depth = info['zero_elevation'] + len(data_int) * info['interval'], #depth calculation after form : total_depth = zero_elevation + (len(data_int)*0.1)"
   ]
  },
  {
   "cell_type": "code",
   "execution_count": 5,
   "metadata": {},
   "outputs": [],
   "source": [
    "depth_array = np.arange(info['zero_elevation'], total_depth[0], info['interval'])\n",
    "#expand depth_array to get a more nearest-neighbour like look\n",
    "nn_depth_array = np.arange(info['zero_elevation'], total_depth[0], info['interval'] / 100)\n",
    "nn_data_array = np.repeat(data_int,100)"
   ]
  },
  {
   "cell_type": "code",
   "execution_count": 7,
   "metadata": {},
   "outputs": [],
   "source": [
    "#get transitions boundary indices for dpm_limits\n",
    "#TODO: write a nice for n in info['dpm_limits] blabla loop.\n",
    "#right now this is just for testing:\n",
    "weich_indices  = np.where(np.logical_and(nn_data_array >= 0, nn_data_array < 4))\n",
    "breiig_indices = np.where(np.logical_and(nn_data_array >= 4, nn_data_array < 8))\n",
    "steif_indices  = np.where(np.logical_and(nn_data_array >= 8, nn_data_array < 14))\n",
    "halbfest_indices  = np.where(np.logical_and(nn_data_array >= 14, nn_data_array < 28))\n",
    "fest_indices = np.where(nn_data_array >= 28)"
   ]
  },
  {
   "cell_type": "code",
   "execution_count": 69,
   "metadata": {},
   "outputs": [
    {
     "data": {
      "image/png": "[encoded data removed]",
      "text/plain": [
       "<matplotlib.figure.Figure at 0x7f7a28e845c0>"
      ]
     },
     "metadata": {},
     "output_type": "display_data"
    }
   ],
   "source": [
    "fig, ax = plt.subplots(1, figsize = [8,8])\n",
    "ax.plot(nn_data_array, nn_depth_array, 'k', linewidth = 2)\n",
    "ax.set_xlim([0,90])\n",
    "ax.set_ylim(4,0)\n",
    "ax.xaxis.tick_top()\n",
    "for i in boundary_indices:\n",
    "    ax.hlines(nn_depth_array[i], 0, 90,'r',  alpha = 0.01)"
   ]
  },
  {
   "cell_type": "code",
   "execution_count": 1,
   "metadata": {},
   "outputs": [],
   "source": [
    "from tkinter import Tk,Label,Button"
   ]
  },
  {
   "cell_type": "code",
   "execution_count": 4,
   "metadata": {},
   "outputs": [],
   "source": [
    "class MyFirstGUI:\n",
    "    def __init__(self,master):\n",
    "        self.master = master\n",
    "        master.title(\"Manu!MANU!MAAANU!\")\n",
    "        self.label = Label(master, text = 'this is a test')\n",
    "        self.label.pack()\n",
    "        \n",
    "        self.greet_button = Button(master, text=\"Greet\", command=self.greet)\n",
    "        self.greet_button.pack()\n",
    "\n",
    "        self.close_button = Button(master, text=\"Close\", command=master.quit)\n",
    "        self.close_button.pack()\n",
    "    \n",
    "    def greet(self):\n",
    "        print(\"Hello!\")\n",
    "    \n",
    "root = Tk()\n",
    "my_gui = MyFirstGUI(root)\n",
    "root.mainloop()\n",
    "        "
   ]
  },
  {
   "cell_type": "code",
   "execution_count": 5,
   "metadata": {},
   "outputs": [
    {
     "ename": "NameError",
     "evalue": "name 'hello' is not defined",
     "output_type": "error",
     "traceback": [
      "\u001b[0;31m---------------------------------------------------------------------------\u001b[0m",
      "\u001b[0;31mNameError\u001b[0m                                 Traceback (most recent call last)",
      "\u001b[0;32m<ipython-input-5-f572d396fae9>\u001b[0m in \u001b[0;36m<module>\u001b[0;34m\u001b[0m\n\u001b[0;32m----> 1\u001b[0;31m \u001b[0mhello\u001b[0m\u001b[0;34m\u001b[0m\u001b[0;34m\u001b[0m\u001b[0m\n\u001b[0m",
      "\u001b[0;31mNameError\u001b[0m: name 'hello' is not defined"
     ]
    }
   ],
   "source": []
  },
  {
   "cell_type": "code",
   "execution_count": null,
   "metadata": {},
   "outputs": [],
   "source": []
  }
 ],
 "metadata": {
  "kernelspec": {
   "display_name": "Python 3",
   "language": "python",
   "name": "python3"
  },
  "language_info": {
   "codemirror_mode": {
    "name": "ipython",
    "version": 3
   },
   "file_extension": ".py",
   "mimetype": "text/x-python",
   "name": "python",
   "nbconvert_exporter": "python",
   "pygments_lexer": "ipython3",
   "version": "3.7.1"
  }
 },
 "nbformat": 4,
 "nbformat_minor": 2
}
