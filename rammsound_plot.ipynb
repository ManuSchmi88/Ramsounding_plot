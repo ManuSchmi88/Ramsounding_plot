{
 "cells": [
  {
   "cell_type": "code",
   "execution_count": 36,
   "metadata": {},
   "outputs": [],
   "source": [
    "import numpy as np\n",
    "import pandas as pd\n",
    "import matplotlib.pyplot as plt\n",
    "%matplotlib inline"
   ]
  },
  {
   "cell_type": "code",
   "execution_count": 37,
   "metadata": {},
   "outputs": [],
   "source": [
    "file = open('rs1.dat', 'r')\n",
    "data = file.readlines()\n",
    "file.close()\n",
    "data_int = [int(i) for i in data]"
   ]
  },
  {
   "cell_type": "code",
   "execution_count": 38,
   "metadata": {},
   "outputs": [],
   "source": [
    "#create basic info about dpm\n",
    "info = {\n",
    "    'zero_elevation' : 0., #describes the depth where we started counting\n",
    "    'interval' : 0.1,    #interval of values read\n",
    "    'type': ['DPL', 'DPM', 'DPH'], #type of ramsounding\n",
    "    'dpm_limits' : {\n",
    "        'weich' : 4,\n",
    "        'breeig' : 8,\n",
    "        'steif' : 14,\n",
    "        'halbfest' : 28,\n",
    "        'fest' : 100,\n",
    "    }\n",
    "}\n"
   ]
  },
  {
   "cell_type": "code",
   "execution_count": 39,
   "metadata": {},
   "outputs": [],
   "source": [
    "#do some necessary calculations\n",
    "total_depth = info['zero_elevation'] + len(data_int) * info['interval'], #depth calculation after form : total_depth = zero_elevation + (len(data_int)*0.1)"
   ]
  },
  {
   "cell_type": "code",
   "execution_count": 40,
   "metadata": {},
   "outputs": [],
   "source": [
    "depth_array = np.arange(info['zero_elevation'], total_depth[0], info['interval'])\n",
    "#expand depth_array to get a more nearest-neighbour like look\n",
    "nn_depth_array = np.arange(info['zero_elevation'], total_depth[0], info['interval'] / 100)\n",
    "nn_data_array = np.repeat(data_int,100)"
   ]
  },
  {
   "cell_type": "code",
   "execution_count": 44,
   "metadata": {},
   "outputs": [
    {
     "data": {
      "image/png": "[encoded data removed]",
      "text/plain": [
       "<matplotlib.figure.Figure at 0x7f7a29136048>"
      ]
     },
     "metadata": {},
     "output_type": "display_data"
    }
   ],
   "source": [
    "fig, ax = plt.subplots(1, figsize = [8,8])\n",
    "ax.plot(nn_data_array, nn_depth_array, 'k', linewidth = 2)\n",
    "ax.set_xlim([0,90])\n",
    "ax.set_ylim(4,0)\n",
    "ax.xaxis.tick_top()"
   ]
  },
  {
   "cell_type": "code",
   "execution_count": null,
   "metadata": {},
   "outputs": [],
   "source": []
  }
 ],
 "metadata": {
  "kernelspec": {
   "display_name": "Python 3",
   "language": "python",
   "name": "python3"
  },
  "language_info": {
   "codemirror_mode": {
    "name": "ipython",
    "version": 3
   },
   "file_extension": ".py",
   "mimetype": "text/x-python",
   "name": "python",
   "nbconvert_exporter": "python",
   "pygments_lexer": "ipython3",
   "version": "3.6.4"
  }
 },
 "nbformat": 4,
 "nbformat_minor": 2
}
