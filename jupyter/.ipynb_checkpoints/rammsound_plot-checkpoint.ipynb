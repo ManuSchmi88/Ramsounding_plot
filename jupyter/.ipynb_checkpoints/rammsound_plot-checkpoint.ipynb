{
 "cells": [
  {
   "cell_type": "code",
   "execution_count": 77,
   "metadata": {},
   "outputs": [],
   "source": [
    "import numpy as np\n",
    "import pandas as pd\n",
    "import matplotlib.pyplot as plt\n",
    "import matplotlib.patches as patches\n",
    "%matplotlib inline"
   ]
  },
  {
   "cell_type": "code",
   "execution_count": 78,
   "metadata": {},
   "outputs": [],
   "source": [
    "file = open('rs1.dat', 'r')\n",
    "data = file.readlines()\n",
    "file.close()\n",
    "data_int = [int(i) for i in data]\n",
    "data_int = np.array(data_int)"
   ]
  },
  {
   "cell_type": "code",
   "execution_count": 79,
   "metadata": {},
   "outputs": [],
   "source": [
    "#create basic info about dpm\n",
    "info = {\n",
    "    'zero_elevation' : 0., #describes the depth where we started counting\n",
    "    'interval' : 0.1,    #interval of values read\n",
    "    'type': ['DPL', 'DPM', 'DPH'], #type of ramsounding\n",
    "    'dpm_limits' : {\n",
    "        'weich' : 4,\n",
    "        'breeig' : 8,\n",
    "        'steif' : 14,\n",
    "        'halbfest' : 28,\n",
    "        'fest' : 100,\n",
    "    }\n",
    "}"
   ]
  },
  {
   "cell_type": "code",
   "execution_count": 80,
   "metadata": {},
   "outputs": [],
   "source": [
    "#do some necessary calculations\n",
    "total_depth = info['zero_elevation'] + len(data_int) * info['interval'], #depth calculation after form : total_depth = zero_elevation + (len(data_int)*0.1)"
   ]
  },
  {
   "cell_type": "code",
   "execution_count": 81,
   "metadata": {},
   "outputs": [],
   "source": [
    "depth_array = np.arange(info['zero_elevation'], total_depth[0], info['interval'])\n",
    "#expand depth_array to get a more nearest-neighbour like look\n",
    "nn_depth_array = np.arange(info['zero_elevation'], total_depth[0], info['interval'] / 100)\n",
    "nn_data_array = np.repeat(data_int,100)"
   ]
  },
  {
   "cell_type": "code",
   "execution_count": 82,
   "metadata": {},
   "outputs": [],
   "source": [
    "#get transitions boundary indices for dpm_limits\n",
    "#TODO: write a nice for n in info['dpm_limits] blabla loop.\n",
    "#right now this is just for testing:\n",
    "weich_indices  = np.where(np.logical_and(nn_data_array >= 0, nn_data_array < 4))\n",
    "breiig_indices = np.where(np.logical_and(nn_data_array >= 4, nn_data_array < 8))\n",
    "steif_indices  = np.where(np.logical_and(nn_data_array >= 8, nn_data_array < 14))\n",
    "halbfest_indices  = np.where(np.logical_and(nn_data_array >= 14, nn_data_array < 28))\n",
    "fest_indices = np.where(nn_data_array >= 28)"
   ]
  },
  {
   "cell_type": "code",
   "execution_count": 88,
   "metadata": {},
   "outputs": [],
   "source": [
    "#Flag if you want the colorbar or not\n",
    "with_color_coding = True"
   ]
  },
  {
   "cell_type": "code",
   "execution_count": 87,
   "metadata": {},
   "outputs": [
    {
     "data": {
      "text/plain": [
       "<matplotlib.collections.PolyCollection at 0x11d745e80>"
      ]
     },
     "execution_count": 87,
     "metadata": {},
     "output_type": "execute_result"
    },
    {
     "data": {
      "image/png": "[encoded data removed]",
      "text/plain": [
       "<Figure size 576x576 with 1 Axes>"
      ]
     },
     "metadata": {
      "needs_background": "light"
     },
     "output_type": "display_data"
    }
   ],
   "source": [
    "fig, ax = plt.subplots(1, figsize = [8,8])\n",
    "ax.plot(nn_data_array, nn_depth_array, 'k', linewidth = 2.3)\n",
    "ax.set_xlim([0,50])\n",
    "ax.set_ylim(4,0)\n",
    "ax.xaxis.tick_top()\n",
    "\n",
    "if with_color_coding == True:\n",
    "    for i in weich_indices:\n",
    "        ax.hlines(nn_depth_array[i],nn_data_array[i] ,90,alpha = 0.01)\n",
    "    for i in breiig_indices:\n",
    "        ax.hlines(nn_depth_array[i],nn_data_array[i] ,90,alpha = 0.01, color = 'blue')\n",
    "    for i in steif_indices:\n",
    "        ax.hlines(nn_depth_array[i],nn_data_array[i] ,90, alpha = 0.01, color = 'magenta')\n",
    "    for i in halbfest_indices:\n",
    "        ax.hlines(nn_depth_array[i],nn_data_array[i] ,90, alpha = 0.01, color = 'yellow')\n",
    "    for i in fest_indices:\n",
    "        ax.hlines(nn_depth_array[i],nn_data_array[i] ,90, alpha = 0.02, color = 'red')\n",
    "\n",
    "ax.axes.tick_params(labelsize = 16)\n",
    "ax.set_xlabel('Schlagzahl', fontsize = 18)\n",
    "ax.xaxis.set_label_position('top')\n",
    "\n",
    "ax.set_ylabel('Tiefe [m]', fontsize = 18)\n",
    "\n",
    "ax.grid(linewidth = 1.2)\n",
    "\n",
    "ax.fill_betweenx(nn_depth_array, nn_data_array, hatch='/')\n",
    "##BETTER SOLUTION: TODO    \n",
    "#for ind in weich_indices:\n",
    "#    rect = patches.Rectangle(0,)\n",
    "#rect = patches.Rectangle((0,0.5),100,100, linewidth = 1, facecolor = 'r')\n",
    "#ax.add_patch(rect)"
   ]
  },
  {
   "cell_type": "code",
   "execution_count": 92,
   "metadata": {},
   "outputs": [
    {
     "data": {
      "text/plain": [
       "<matplotlib.collections.LineCollection at 0x11b279208>"
      ]
     },
     "execution_count": 92,
     "metadata": {},
     "output_type": "execute_result"
    },
    {
     "data": {
      "image/png": "[encoded data removed]",
      "text/plain": [
       "<Figure size 432x288 with 1 Axes>"
      ]
     },
     "metadata": {
      "needs_background": "light"
     },
     "output_type": "display_data"
    }
   ],
   "source": [
    "plt.figure()\n",
    "plt.vlines(0,0,10)\n",
    "plt.vlines(0, 20, 30)"
   ]
  },
  {
   "cell_type": "code",
   "execution_count": null,
   "metadata": {},
   "outputs": [],
   "source": []
  }
 ],
 "metadata": {
  "kernelspec": {
   "display_name": "Python 3",
   "language": "python",
   "name": "python3"
  },
  "language_info": {
   "codemirror_mode": {
    "name": "ipython",
    "version": 3
   },
   "file_extension": ".py",
   "mimetype": "text/x-python",
   "name": "python",
   "nbconvert_exporter": "python",
   "pygments_lexer": "ipython3",
   "version": "3.6.6"
  }
 },
 "nbformat": 4,
 "nbformat_minor": 2
}
